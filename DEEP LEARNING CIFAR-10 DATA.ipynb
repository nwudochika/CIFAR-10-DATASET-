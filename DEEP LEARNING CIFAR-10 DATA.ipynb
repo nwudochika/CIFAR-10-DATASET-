{
  "cells": [
    {
      "cell_type": "markdown",
      "metadata": {
        "id": "29EFUWoXU18n"
      },
      "source": [
        "1. The CIFAR-10 dataset consists of a total of 60,000 colour images of dimensions 32 × 32\n",
        "with a total of 10 classes. There are 50,000 training images and 10,000 test images.\n",
        "Develop a feedforward neural network (i.e. a MLP) for image classification for this dataset.\n",
        "Experiment with the number of hidden layers, units per layer, activation functions, etc.\n",
        "Verify the model(s) by reporting suitable metrics, such as accuracy, precision, recall,\n",
        "per-class accuracy, etc. What overall accuracy can your model obtain for this dataset?\n",
        "Visualize some of the correct and incorrect predictions of your model.\n",
        "Note: You will find that the MLP network is woefully inadequate for this dataset. As\n",
        "with most image-related problems, convolutional neural networks are vastly superior, and\n",
        "we will learn about these in class soon"
      ]
    },
    {
      "cell_type": "markdown",
      "source": [
        "The CIFAR-10 dataset consists of 10 classes of 32x32 color images in the following classes: airplane, automobile, bird, cat, deer, dog, frog, horse, ship, and truck. "
      ],
      "metadata": {
        "id": "9mCRa6fOClTv"
      }
    },
    {
      "cell_type": "code",
      "execution_count": 1,
      "metadata": {
        "id": "7h3vy_gSsd87"
      },
      "outputs": [],
      "source": [
        "from google.colab import drive\n",
        "import netCDF4\n",
        "import numpy as np\n",
        "from pickle import TRUE\n",
        "from keras.datasets import cifar10\n",
        "import tensorflow as tf\n",
        "import matplotlib.pyplot as plt\n",
        "from matplotlib import figure\n",
        "from sklearn.metrics import confusion_matrix, plot_confusion_matrix\n",
        "import seaborn as sns\n",
        "!pip install -q -U keras-tuner\n",
        "import keras_tuner as kt"
      ]
    },
    {
      "cell_type": "code",
      "source": [
        "tf.random.set_seed(6602)"
      ],
      "metadata": {
        "id": "D3a3_Fd-VsSW"
      },
      "execution_count": 2,
      "outputs": []
    },
    {
      "cell_type": "code",
      "execution_count": 3,
      "metadata": {
        "id": "1UkUN8Muy0P-"
      },
      "outputs": [],
      "source": [
        "(X_train, y_train), (X_test, y_test) = cifar10.load_data()"
      ]
    },
    {
      "cell_type": "code",
      "execution_count": 4,
      "metadata": {
        "colab": {
          "base_uri": "https://localhost:8080/"
        },
        "id": "4NQWXc4vy0TP",
        "outputId": "7f8443fd-2dbc-470a-e16b-597d1c6bdd2e"
      },
      "outputs": [
        {
          "output_type": "execute_result",
          "data": {
            "text/plain": [
              "dtype('uint8')"
            ]
          },
          "metadata": {},
          "execution_count": 4
        }
      ],
      "source": [
        "# to determine how your data is being encoded\n",
        "X_train.dtype "
      ]
    },
    {
      "cell_type": "code",
      "source": [
        "print(X_train.shape)\n",
        "print(y_train.shape)\n",
        "print(X_test.shape)\n",
        "print(y_test.shape)"
      ],
      "metadata": {
        "colab": {
          "base_uri": "https://localhost:8080/"
        },
        "id": "TBCZyFytniLf",
        "outputId": "5d191b45-da87-45ee-afa3-3c59b572cb29"
      },
      "execution_count": 5,
      "outputs": [
        {
          "output_type": "stream",
          "name": "stdout",
          "text": [
            "(50000, 32, 32, 3)\n",
            "(50000, 1)\n",
            "(10000, 32, 32, 3)\n",
            "(10000, 1)\n"
          ]
        }
      ]
    },
    {
      "cell_type": "code",
      "source": [
        "# printing the 9th image\n",
        "\n",
        "print(X_train[9])\n",
        "\n",
        "# printing the 9th label\n",
        "\n",
        "print(y_train[9])"
      ],
      "metadata": {
        "colab": {
          "base_uri": "https://localhost:8080/"
        },
        "id": "yMUFFO5OoB4U",
        "outputId": "a3f413b8-e996-4770-cbb7-345782c0d5b9"
      },
      "execution_count": 6,
      "outputs": [
        {
          "output_type": "stream",
          "name": "stdout",
          "text": [
            "[[[125 125 116]\n",
            "  [110 101  91]\n",
            "  [102  90  83]\n",
            "  ...\n",
            "  [202 207 214]\n",
            "  [200 205 212]\n",
            "  [202 208 214]]\n",
            "\n",
            " [[142 146 142]\n",
            "  [146 144 139]\n",
            "  [176 172 170]\n",
            "  ...\n",
            "  [195 201 205]\n",
            "  [198 205 209]\n",
            "  [204 211 215]]\n",
            "\n",
            " [[180 185 183]\n",
            "  [143 146 146]\n",
            "  [156 157 157]\n",
            "  ...\n",
            "  [122 111 113]\n",
            "  [139 128 131]\n",
            "  [158 147 150]]\n",
            "\n",
            " ...\n",
            "\n",
            " [[104  82  41]\n",
            "  [101  80  39]\n",
            "  [101  81  38]\n",
            "  ...\n",
            "  [126 103  67]\n",
            "  [126 103  69]\n",
            "  [125 101  68]]\n",
            "\n",
            " [[104  81  40]\n",
            "  [105  84  41]\n",
            "  [109  88  43]\n",
            "  ...\n",
            "  [138 113  78]\n",
            "  [137 113  80]\n",
            "  [137 112  81]]\n",
            "\n",
            " [[105  83  42]\n",
            "  [108  87  45]\n",
            "  [115  94  50]\n",
            "  ...\n",
            "  [143 117  82]\n",
            "  [143 116  84]\n",
            "  [144 116  86]]]\n",
            "[3]\n"
          ]
        }
      ]
    },
    {
      "cell_type": "code",
      "source": [
        "print(X_train[9].shape)"
      ],
      "metadata": {
        "colab": {
          "base_uri": "https://localhost:8080/"
        },
        "id": "AfxxP7O-odfK",
        "outputId": "9362fc2a-efe0-4ef8-a915-0f0377550523"
      },
      "execution_count": 7,
      "outputs": [
        {
          "output_type": "stream",
          "name": "stdout",
          "text": [
            "(32, 32, 3)\n"
          ]
        }
      ]
    },
    {
      "cell_type": "code",
      "source": [
        "# displaying the image\n",
        "plt.imshow(X_train[7])\n",
        "plt.show()\n",
        "\n",
        "# print corresponding label\n",
        "print(y_train[7])"
      ],
      "metadata": {
        "colab": {
          "base_uri": "https://localhost:8080/",
          "height": 283
        },
        "id": "_-jq_P-Bo1pI",
        "outputId": "0bece864-4fec-4122-f1f3-d5b6428be837"
      },
      "execution_count": 8,
      "outputs": [
        {
          "output_type": "display_data",
          "data": {
            "text/plain": [
              "<Figure size 432x288 with 1 Axes>"
            ],
            "image/png": "[encoded data removed]"
          },
          "metadata": {
            "needs_background": "light"
          }
        },
        {
          "output_type": "stream",
          "name": "stdout",
          "text": [
            "[7]\n"
          ]
        }
      ]
    },
    {
      "cell_type": "code",
      "source": [
        "# checking for unique values in y_test and y_train\n",
        "print(np.unique(y_train))\n",
        "print(np.unique(y_test))"
      ],
      "metadata": {
        "colab": {
          "base_uri": "https://localhost:8080/"
        },
        "id": "y9KjZs_lmrXd",
        "outputId": "44cc2e12-c0e3-49cd-e1f4-2407e9ee2915"
      },
      "execution_count": 9,
      "outputs": [
        {
          "output_type": "stream",
          "name": "stdout",
          "text": [
            "[0 1 2 3 4 5 6 7 8 9]\n",
            "[0 1 2 3 4 5 6 7 8 9]\n"
          ]
        }
      ]
    },
    {
      "cell_type": "markdown",
      "source": [
        "we can use this labels as such or we can perform one hot encoding"
      ],
      "metadata": {
        "id": "s2zI1jKInmyT"
      }
    },
    {
      "cell_type": "code",
      "execution_count": 10,
      "metadata": {
        "colab": {
          "base_uri": "https://localhost:8080/"
        },
        "id": "_LUo59eXy0V6",
        "outputId": "080025c6-c1c3-48df-b5ba-2493fef3c6d8"
      },
      "outputs": [
        {
          "output_type": "stream",
          "name": "stdout",
          "text": [
            "Min value: 0\n",
            "Max value: 255\n"
          ]
        }
      ],
      "source": [
        "# this determines the normalization factor\n",
        "print(\"Min value:\", np.min(X_train))\n",
        "print(\"Max value:\", np.max(X_train)) "
      ]
    },
    {
      "cell_type": "code",
      "execution_count": 11,
      "metadata": {
        "id": "tu35v2wY4XoQ"
      },
      "outputs": [],
      "source": [
        "# Step 2: Build the training/testing pipelines\n",
        "def normalize_img(image, label):\n",
        "  return tf.cast(image, tf.float32) / 255., label #tf.one_hot(label, 10)"
      ]
    },
    {
      "cell_type": "code",
      "source": [
        "X_train, y_train = normalize_img(X_train, y_train)\n",
        "X_test, y_test = normalize_img(X_test, y_test)"
      ],
      "metadata": {
        "id": "nwZa7756Idcu"
      },
      "execution_count": 12,
      "outputs": []
    },
    {
      "cell_type": "code",
      "execution_count": 13,
      "metadata": {
        "colab": {
          "base_uri": "https://localhost:8080/"
        },
        "id": "kpt8VhU-4a3q",
        "outputId": "71d4f20b-acb7-453d-8435-85fca18c0183"
      },
      "outputs": [
        {
          "output_type": "stream",
          "name": "stdout",
          "text": [
            "Model: \"model\"\n",
            "_________________________________________________________________\n",
            " Layer (type)                Output Shape              Param #   \n",
            "=================================================================\n",
            " input_1 (InputLayer)        [(None, 32, 32, 3)]       0         \n",
            "                                                                 \n",
            " flatten (Flatten)           (None, 3072)              0         \n",
            "                                                                 \n",
            " dense (Dense)               (None, 64)                196672    \n",
            "                                                                 \n",
            " dense_1 (Dense)             (None, 128)               8320      \n",
            "                                                                 \n",
            " dense_2 (Dense)             (None, 10)                1290      \n",
            "                                                                 \n",
            "=================================================================\n",
            "Total params: 206,282\n",
            "Trainable params: 206,282\n",
            "Non-trainable params: 0\n",
            "_________________________________________________________________\n"
          ]
        }
      ],
      "source": [
        "# Step 3: Create the model\n",
        "inp = tf.keras.layers.Input(shape=(32,32,3))\n",
        "b = tf.keras.layers.Flatten()(inp)\n",
        "b = tf.keras.layers.Dense(64, activation='relu')(b)\n",
        "b = tf.keras.layers.Dense(128, activation='relu')(b)\n",
        "out = tf.keras.layers.Dense(10, activation='softmax')(b)\n",
        "\n",
        "model = tf.keras.models.Model(inp, out)\n",
        "\n",
        "# Summary of the model\n",
        "model.summary()"
      ]
    },
    {
      "cell_type": "code",
      "execution_count": 14,
      "metadata": {
        "id": "CE5Gt-jJjsTL"
      },
      "outputs": [],
      "source": [
        "# Compile the model, i.e. associate a loss function and the chosen variant of GD\n",
        "model.compile(\n",
        "    loss='sparse_categorical_crossentropy',\n",
        "    optimizer=tf.keras.optimizers.Adam(),\n",
        "    metrics=['accuracy'],\n",
        ")"
      ]
    },
    {
      "cell_type": "code",
      "execution_count": 15,
      "metadata": {
        "colab": {
          "base_uri": "https://localhost:8080/"
        },
        "id": "tyg4nPiI4cud",
        "outputId": "49519c77-1ee7-4d81-beed-b457c931123c"
      },
      "outputs": [
        {
          "output_type": "stream",
          "name": "stdout",
          "text": [
            "Epoch 1/50\n",
            "1250/1250 [==============================] - 6s 4ms/step - loss: 1.8844 - accuracy: 0.3153 - val_loss: 1.7747 - val_accuracy: 0.3537\n",
            "Epoch 2/50\n",
            "1250/1250 [==============================] - 7s 6ms/step - loss: 1.7316 - accuracy: 0.3778 - val_loss: 1.7666 - val_accuracy: 0.3578\n",
            "Epoch 3/50\n",
            "1250/1250 [==============================] - 7s 5ms/step - loss: 1.6745 - accuracy: 0.3971 - val_loss: 1.7059 - val_accuracy: 0.3836\n",
            "Epoch 4/50\n",
            "1250/1250 [==============================] - 8s 7ms/step - loss: 1.6299 - accuracy: 0.4126 - val_loss: 1.6382 - val_accuracy: 0.4179\n",
            "Epoch 5/50\n",
            "1250/1250 [==============================] - 4s 3ms/step - loss: 1.5860 - accuracy: 0.4304 - val_loss: 1.6872 - val_accuracy: 0.4059\n",
            "Epoch 6/50\n",
            "1250/1250 [==============================] - 5s 4ms/step - loss: 1.5687 - accuracy: 0.4374 - val_loss: 1.5938 - val_accuracy: 0.4365\n",
            "Epoch 7/50\n",
            "1250/1250 [==============================] - 4s 3ms/step - loss: 1.5453 - accuracy: 0.4458 - val_loss: 1.5695 - val_accuracy: 0.4460\n",
            "Epoch 8/50\n",
            "1250/1250 [==============================] - 4s 3ms/step - loss: 1.5261 - accuracy: 0.4529 - val_loss: 1.5854 - val_accuracy: 0.4382\n",
            "Epoch 9/50\n",
            "1250/1250 [==============================] - 5s 4ms/step - loss: 1.5161 - accuracy: 0.4577 - val_loss: 1.5794 - val_accuracy: 0.4436\n"
          ]
        }
      ],
      "source": [
        "# Step 4: Train the model\n",
        "hist = model.fit(\n",
        "    X_train, y_train,\n",
        "    epochs=50,\n",
        "    validation_split= 0.2,\n",
        "    callbacks = tf.keras.callbacks.EarlyStopping(patience=2)\n",
        ")"
      ]
    },
    {
      "cell_type": "code",
      "execution_count": 16,
      "metadata": {
        "colab": {
          "base_uri": "https://localhost:8080/",
          "height": 1000
        },
        "id": "Km6Wur6-44xs",
        "outputId": "9dabfce6-6370-4219-86f3-6df3adfb3d69"
      },
      "outputs": [
        {
          "output_type": "display_data",
          "data": {
            "text/plain": [
              "<Figure size 720x720 with 1 Axes>"
            ],
            "image/png": "[encoded data removed]"
          },
          "metadata": {
            "needs_background": "light"
          }
        },
        {
          "output_type": "execute_result",
          "data": {
            "text/plain": [
              "<matplotlib.legend.Legend at 0x7f229032fc70>"
            ]
          },
          "metadata": {},
          "execution_count": 16
        },
        {
          "output_type": "display_data",
          "data": {
            "text/plain": [
              "<Figure size 720x720 with 1 Axes>"
            ],
            "image/png": "[encoded data removed]"
          },
          "metadata": {
            "needs_background": "light"
          }
        }
      ],
      "source": [
        "# Plot the training progress\n",
        "fig = plt.figure(figsize=(10,10))\n",
        "plt.plot(hist.history['loss'])\n",
        "plt.plot(hist.history['val_loss'])\n",
        "plt.title('Loss function')\n",
        "plt.ylabel('Loss')\n",
        "plt.xlabel('Epoch')\n",
        "plt.grid()\n",
        "plt.legend(['Training data', 'Test data'])\n",
        "plt.show()\n",
        "\n",
        "fig = plt.figure(figsize=(10,10))\n",
        "plt.plot(hist.history['accuracy'])\n",
        "plt.plot(hist.history['val_accuracy'])\n",
        "plt.title('Model accuracy')\n",
        "plt.ylabel('Accuracy')\n",
        "plt.xlabel('Epoch')\n",
        "plt.grid()\n",
        "plt.legend(['Training data', 'Test data'])"
      ]
    },
    {
      "cell_type": "code",
      "execution_count": 17,
      "metadata": {
        "colab": {
          "base_uri": "https://localhost:8080/"
        },
        "id": "SXRMvcFH5Wc8",
        "outputId": "82bfa7f3-e3ae-4741-bbe7-8ca4c3d0e50d"
      },
      "outputs": [
        {
          "output_type": "stream",
          "name": "stdout",
          "text": [
            "Test Loss: 1.549737572669983\n",
            "Test Accuracy: 0.4503999948501587\n"
          ]
        }
      ],
      "source": [
        "# Step 5/6: Evaluate the model (we do no hyperparameter tuning here)\n",
        "loss_accuracy = model.evaluate(X_test, y_test, verbose=0)\n",
        "\n",
        "print(\"Test Loss: {}\".format(loss_accuracy[0]))\n",
        "print(\"Test Accuracy: {}\".format(loss_accuracy[1]))\n",
        "#loss_accuracy"
      ]
    },
    {
      "cell_type": "code",
      "execution_count": 18,
      "metadata": {
        "id": "r8YkNeU64eO9"
      },
      "outputs": [],
      "source": [
        "def build_model(hp):\n",
        "\n",
        "  model = tf.keras.models.Sequential()\n",
        "\n",
        "  model.add(tf.keras.layers.Flatten())\n",
        "  number_hidden_layers = hp.Int('num_layers', 1, 5)\n",
        "  for i in range(number_hidden_layers):\n",
        "    model.add(tf.keras.layers.Dense(hp.Int('units', min_value=16,\n",
        "                                           max_value=128, step=16), \n",
        "                                    activation='relu', kernel_initializer='he_normal'))\n",
        "  \n",
        "  model.add(tf.keras.layers.Dense(10, activation='softmax'))\n",
        "  model.compile(loss='sparse_categorical_crossentropy', optimizer='adam', metrics=['acc'])\n",
        "\n",
        "  return model"
      ]
    },
    {
      "cell_type": "code",
      "execution_count": 19,
      "metadata": {
        "id": "v-BToU2X1ZIE"
      },
      "outputs": [],
      "source": [
        "tuner = kt.Hyperband(build_model,\n",
        "                     objective='val_acc',\n",
        "                     max_epochs=100,\n",
        "                     factor=3,\n",
        "                     hyperband_iterations=1,\n",
        "                     overwrite=True)"
      ]
    },
    {
      "cell_type": "code",
      "execution_count": 20,
      "metadata": {
        "id": "sfFedQCL5TC3"
      },
      "outputs": [],
      "source": [
        "stop_early = tf.keras.callbacks.EarlyStopping(monitor='val_loss', patience=2)"
      ]
    },
    {
      "cell_type": "code",
      "execution_count": 21,
      "metadata": {
        "colab": {
          "base_uri": "https://localhost:8080/"
        },
        "id": "72qJNDHX5TFu",
        "outputId": "a0290811-8067-418e-ce3f-eec98dcfd3ab"
      },
      "outputs": [
        {
          "output_type": "stream",
          "name": "stdout",
          "text": [
            "Trial 254 Complete [00h 01m 15s]\n",
            "val_acc: 0.4352000057697296\n",
            "\n",
            "Best val_acc So Far: 0.4844000041484833\n",
            "Total elapsed time: 01h 38m 44s\n"
          ]
        }
      ],
      "source": [
        "tuner.search(X_train, y_train, epochs=20, validation_split= 0.2,\n",
        "          callbacks = [stop_early])"
      ]
    },
    {
      "cell_type": "code",
      "execution_count": 22,
      "metadata": {
        "id": "GRmJmh-_6O6X"
      },
      "outputs": [],
      "source": [
        "# Get the optimal hyperparameters\n",
        "best_hps=tuner.get_best_hyperparameters(num_trials=1)[0]"
      ]
    },
    {
      "cell_type": "code",
      "execution_count": 23,
      "metadata": {
        "id": "bJvGKi3IekHh"
      },
      "outputs": [],
      "source": [
        "# Build the model with the optimal hyperparameters and train it on the data for 50 epochs\n",
        "model = tuner.hypermodel.build(best_hps)"
      ]
    },
    {
      "cell_type": "code",
      "execution_count": 24,
      "metadata": {
        "id": "Ug1JMvc_el7M",
        "colab": {
          "base_uri": "https://localhost:8080/"
        },
        "outputId": "88fe5c93-0b11-4356-f121-3810e88dc122"
      },
      "outputs": [
        {
          "output_type": "stream",
          "name": "stdout",
          "text": [
            "Epoch 1/50\n",
            "500/500 [==============================] - 2s 3ms/step - loss: 1.9080 - acc: 0.3123 - val_loss: 1.7257 - val_acc: 0.3858\n",
            "Epoch 2/50\n",
            "500/500 [==============================] - 2s 3ms/step - loss: 1.7057 - acc: 0.3871 - val_loss: 1.6617 - val_acc: 0.4027\n",
            "Epoch 3/50\n",
            "500/500 [==============================] - 2s 4ms/step - loss: 1.6275 - acc: 0.4179 - val_loss: 1.6069 - val_acc: 0.4251\n",
            "Epoch 4/50\n",
            "500/500 [==============================] - 2s 3ms/step - loss: 1.5728 - acc: 0.4379 - val_loss: 1.6211 - val_acc: 0.4316\n",
            "Epoch 5/50\n",
            "500/500 [==============================] - 2s 3ms/step - loss: 1.5383 - acc: 0.4509 - val_loss: 1.5772 - val_acc: 0.4358\n",
            "Epoch 6/50\n",
            "500/500 [==============================] - 2s 3ms/step - loss: 1.5131 - acc: 0.4587 - val_loss: 1.5617 - val_acc: 0.4423\n",
            "Epoch 7/50\n",
            "500/500 [==============================] - 2s 3ms/step - loss: 1.4912 - acc: 0.4676 - val_loss: 1.5769 - val_acc: 0.4343\n",
            "Epoch 8/50\n",
            "500/500 [==============================] - 2s 3ms/step - loss: 1.4660 - acc: 0.4778 - val_loss: 1.5198 - val_acc: 0.4630\n",
            "Epoch 9/50\n",
            "500/500 [==============================] - 2s 3ms/step - loss: 1.4542 - acc: 0.4804 - val_loss: 1.5132 - val_acc: 0.4596\n",
            "Epoch 10/50\n",
            "500/500 [==============================] - 2s 4ms/step - loss: 1.4357 - acc: 0.4894 - val_loss: 1.4862 - val_acc: 0.4761\n",
            "Epoch 11/50\n",
            "500/500 [==============================] - 2s 4ms/step - loss: 1.4224 - acc: 0.4959 - val_loss: 1.4951 - val_acc: 0.4707\n",
            "Epoch 12/50\n",
            "500/500 [==============================] - 2s 3ms/step - loss: 1.4113 - acc: 0.4974 - val_loss: 1.4668 - val_acc: 0.4864\n",
            "Epoch 13/50\n",
            "500/500 [==============================] - 2s 3ms/step - loss: 1.3932 - acc: 0.5048 - val_loss: 1.4622 - val_acc: 0.4817\n",
            "Epoch 14/50\n",
            "500/500 [==============================] - 2s 3ms/step - loss: 1.3824 - acc: 0.5080 - val_loss: 1.4637 - val_acc: 0.4863\n",
            "Epoch 15/50\n",
            "500/500 [==============================] - 2s 3ms/step - loss: 1.3689 - acc: 0.5123 - val_loss: 1.4751 - val_acc: 0.4820\n"
          ]
        }
      ],
      "source": [
        "# Train the best model\n",
        "hist = model.fit(\n",
        "    X_train, y_train,\n",
        "    epochs=50,\n",
        "    batch_size=100,\n",
        "    validation_data=(X_test, y_test),\n",
        "    callbacks = tf.keras.callbacks.EarlyStopping(patience=2)\n",
        ")"
      ]
    },
    {
      "cell_type": "code",
      "execution_count": 101,
      "metadata": {
        "id": "it7PCIdTemAF",
        "colab": {
          "base_uri": "https://localhost:8080/"
        },
        "outputId": "6fb5c572-0a89-49c2-fb7d-f8f565e67f54"
      },
      "outputs": [
        {
          "output_type": "stream",
          "name": "stdout",
          "text": [
            "Model: \"sequential_1\"\n",
            "_________________________________________________________________\n",
            " Layer (type)                Output Shape              Param #   \n",
            "=================================================================\n",
            " flatten_1 (Flatten)         (None, 3072)              0         \n",
            "                                                                 \n",
            " dense_6 (Dense)             (None, 128)               393344    \n",
            "                                                                 \n",
            " dense_7 (Dense)             (None, 128)               16512     \n",
            "                                                                 \n",
            " dense_8 (Dense)             (None, 10)                1290      \n",
            "                                                                 \n",
            "=================================================================\n",
            "Total params: 411,146\n",
            "Trainable params: 411,146\n",
            "Non-trainable params: 0\n",
            "_________________________________________________________________\n"
          ]
        }
      ],
      "source": [
        "# overview of our model\n",
        "model.summary()"
      ]
    },
    {
      "cell_type": "code",
      "execution_count": 102,
      "metadata": {
        "id": "VrVk59O_erg8",
        "colab": {
          "base_uri": "https://localhost:8080/"
        },
        "outputId": "1486f5f9-b6c1-4f9b-9abb-3b6fdc6b471c"
      },
      "outputs": [
        {
          "output_type": "stream",
          "name": "stdout",
          "text": [
            "Test Loss: 1.4750816822052002\n",
            "Test Accuracy: 0.4819999933242798\n"
          ]
        },
        {
          "output_type": "execute_result",
          "data": {
            "text/plain": [
              "[1.4750816822052002, 0.4819999933242798]"
            ]
          },
          "metadata": {},
          "execution_count": 102
        }
      ],
      "source": [
        "# Evaluate the best model\n",
        "loss_accuracy = model.evaluate(X_test, y_test, verbose=0)\n",
        "\n",
        "print(\"Test Loss: {}\".format(loss_accuracy[0]))\n",
        "print(\"Test Accuracy: {}\".format(loss_accuracy[1]))\n",
        "loss_accuracy"
      ]
    },
    {
      "cell_type": "code",
      "source": [
        "y_pred = model.predict(X_test)\n",
        "print(y_pred)\n"
      ],
      "metadata": {
        "id": "fN2Xl_6M_P0t",
        "colab": {
          "base_uri": "https://localhost:8080/"
        },
        "outputId": "8de72a45-3c7d-41da-d8ab-a406fe8ebb70"
      },
      "execution_count": 103,
      "outputs": [
        {
          "output_type": "stream",
          "name": "stdout",
          "text": [
            "313/313 [==============================] - 1s 2ms/step\n",
            "[[5.2428478e-03 1.8414444e-01 9.3609160e-03 ... 2.6836444e-03\n",
            "  1.9805397e-01 1.4326361e-01]\n",
            " [1.7523048e-02 2.6464090e-01 1.0378266e-03 ... 5.9547008e-04\n",
            "  2.0758975e-01 5.0599414e-01]\n",
            " [1.9513132e-01 1.4673565e-01 3.9969026e-03 ... 5.7437397e-03\n",
            "  5.5703831e-01 8.6130776e-02]\n",
            " ...\n",
            " [2.0107345e-03 5.6672125e-04 8.5955031e-02 ... 2.9360903e-02\n",
            "  1.9069653e-02 3.8260634e-03]\n",
            " [6.6326812e-02 4.5030147e-02 1.8368964e-01 ... 4.3751255e-02\n",
            "  1.8895824e-02 1.7201521e-02]\n",
            " [3.8319267e-02 5.8879447e-03 5.8039002e-02 ... 6.5535980e-01\n",
            "  1.0437702e-02 2.5612189e-02]]\n"
          ]
        }
      ]
    },
    {
      "cell_type": "code",
      "source": [
        "# converting the prediction probabilities to class label\n",
        "#y_pred_labels = [np.argmax(i) for i in y_pred]\n",
        "#y_true = [np.argmax(i) for i in y_test]\n"
      ],
      "metadata": {
        "id": "0IYsr3rsHsjM"
      },
      "execution_count": 92,
      "outputs": []
    },
    {
      "cell_type": "code",
      "source": [
        "# converting the predicted probabilities to class label\n",
        "y_pred_labels = np.argmax(y_pred, axis = 1)\n",
        "y_true = np.argmax(y_test, axis = 1)\n",
        "y_pred_labels = y_pred_labels.reshape(-1,1)\n",
        "print(y_pred_labels.shape)\n",
        "print(y_test.shape)"
      ],
      "metadata": {
        "colab": {
          "base_uri": "https://localhost:8080/"
        },
        "id": "R3zAZw0TenFX",
        "outputId": "010aa49e-555b-42f8-8bc6-69873f477b11"
      },
      "execution_count": 104,
      "outputs": [
        {
          "output_type": "stream",
          "name": "stdout",
          "text": [
            "(10000, 1)\n",
            "(10000, 1)\n"
          ]
        }
      ]
    },
    {
      "cell_type": "code",
      "source": [
        "# Confusion Matrix to visualize the correct and incorrect predictions of the model\n",
        "conf_matrix = confusion_matrix(y_test, y_pred_labels)\n",
        "print(conf_matrix)\n",
        "plt.figure(figsize=(10,10))\n",
        "sns.heatmap(conf_matrix, annot=True, fmt='d', cmap='Blues')\n",
        "plt.xlabel('Predicted Label')\n",
        "plt.ylabel('True Label')"
      ],
      "metadata": {
        "id": "35LJMg9DHtve",
        "colab": {
          "base_uri": "https://localhost:8080/",
          "height": 797
        },
        "outputId": "7ab6e0f9-492f-44c8-a980-04e8cb3f1f3c"
      },
      "execution_count": 105,
      "outputs": [
        {
          "output_type": "stream",
          "name": "stdout",
          "text": [
            "[[531  34  34  42  44  68  29  36 133  49]\n",
            " [ 54 567   7  30  11  33  14  28  77 179]\n",
            " [ 72  21 198  91 158 198 125  86  27  24]\n",
            " [ 17  15  37 296  46 335 141  45  31  37]\n",
            " [ 38   6  58  59 456 135 116  90  31  11]\n",
            " [ 14   9  33 173  55 517  80  62  38  19]\n",
            " [  5  10  28  95 107 124 582  19   6  24]\n",
            " [ 34  14  17  80 103 120  34 526  27  45]\n",
            " [145  43   6  44  28  37   9  12 608  68]\n",
            " [ 50 138   2  57  29  30  27  41  87 539]]\n"
          ]
        },
        {
          "output_type": "execute_result",
          "data": {
            "text/plain": [
              "Text(69.0, 0.5, 'True Label')"
            ]
          },
          "metadata": {},
          "execution_count": 105
        },
        {
          "output_type": "display_data",
          "data": {
            "text/plain": [
              "<Figure size 720x720 with 2 Axes>"
            ],
            "image/png": "[encoded data removed]"
          },
          "metadata": {
            "needs_background": "light"
          }
        }
      ]
    },
    {
      "cell_type": "markdown",
      "source": [
        "All the values in the diagonal represent the true predictions made by the model"
      ],
      "metadata": {
        "id": "L8ePsF3Mg6yQ"
      }
    },
    {
      "cell_type": "code",
      "source": [
        "# checking the correct and incorrect predictions\n",
        "correct_indices = np.nonzero(y_pred_labels == y_test)[0]\n",
        "incorrect_indices = np.nonzero(y_pred_labels != y_test)[0]\n",
        "print(len(correct_indices), \"classified correctly\")\n",
        "print(len(incorrect_indices), \"classified incorrectly\")"
      ],
      "metadata": {
        "id": "FVip5oUfgTmP",
        "colab": {
          "base_uri": "https://localhost:8080/"
        },
        "outputId": "185ec41a-2dcd-4903-931e-dbc8b7611948"
      },
      "execution_count": 106,
      "outputs": [
        {
          "output_type": "stream",
          "name": "stdout",
          "text": [
            "4820 classified correctly\n",
            "5180 classified incorrectly\n"
          ]
        }
      ]
    },
    {
      "cell_type": "markdown",
      "source": [
        "- As we can see, the wrong predictions are more than the correct predictions.\n",
        "- The MLP network is woefully inadequate for this dataset."
      ],
      "metadata": {
        "id": "amd-dLnHilBA"
      }
    }
  ],
  "metadata": {
    "colab": {
      "provenance": []
    },
    "gpuClass": "standard",
    "kernelspec": {
      "display_name": "Python 3",
      "name": "python3"
    },
    "language_info": {
      "name": "python"
    },
    "accelerator": "GPU"
  },
  "nbformat": 4,
  "nbformat_minor": 0
}